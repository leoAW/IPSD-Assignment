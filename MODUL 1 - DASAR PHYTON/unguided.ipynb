{
 "cells": [
  {
   "cell_type": "markdown",
   "metadata": {},
   "source": [
    "1. Buatlah program yang dapat menghasilkan pola berbentuk angka seperti di bawah ini, dengan syarat angka yang ditampilkan adalah hasil dari penjumlahan bilangan prima sebelumnya"
   ]
  },
  {
   "cell_type": "code",
   "execution_count": 6,
   "metadata": {},
   "outputs": [
    {
     "name": "stdout",
     "output_type": "stream",
     "text": [
      "2\n",
      "3 5\n",
      "7 11 13\n",
      "17 19 23 29\n"
     ]
    }
   ],
   "source": [
    "def cek_prima(angka):\n",
    "    \"\"\"Memeriksa apakah angka adalah bilangan prima\"\"\"\n",
    "    if angka < 2:\n",
    "        return False\n",
    "    for i in range(2, int(angka**0.5) + 1):\n",
    "        if angka % i == 0:\n",
    "            return False\n",
    "    return True\n",
    "\n",
    "def deret_prima(jumlah):\n",
    "    \"\"\"Menghasilkan deret bilangan prima\"\"\"\n",
    "    prima = []\n",
    "    angka = 2\n",
    "    while len(prima) < jumlah:\n",
    "        if cek_prima(angka):\n",
    "            prima.append(angka)\n",
    "        angka += 1\n",
    "    return prima\n",
    "\n",
    "def pola_prima(baris):\n",
    "    \"\"\"Mencetak pola bilangan prima\"\"\"\n",
    "    total = sum(range(1, baris + 1))\n",
    "    prima = deret_prima(total)\n",
    "    \n",
    "    index = 0\n",
    "    for i in range(1, baris + 1):\n",
    "        print(\" \".join(str(prima[index + j]) for j in range(i)))\n",
    "        index += i\n",
    "\n",
    "# Input jumlah baris\n",
    "baris = int(input(\"Masukkan jumlah baris: \"))\n",
    "pola_prima(baris)"
   ]
  },
  {
   "cell_type": "markdown",
   "metadata": {},
   "source": [
    "2. Buatlah sebuah fungsi yang menerima dua input berupa list angka. Fungsi ini harus mengembalikan sebuah list baru yang berisi elemen dari dua list input yang memiliki indeks ganjil. List baru tersebut juga harus diurutkan secara menurun berdasarkan nilai elemen"
   ]
  },
  {
   "cell_type": "code",
   "execution_count": 3,
   "metadata": {},
   "outputs": [
    {
     "name": "stdout",
     "output_type": "stream",
     "text": [
      "List 1: [0, 1, 2, 3, 4]\n",
      "List 2: [10, 20, 30, 40, 50]\n",
      "Hasil elemen dari indeks ganjil yang diurutkan secara menurun: [40, 20, 3, 1]\n"
     ]
    }
   ],
   "source": [
    "def ambil_ganjil_dan_urutkan(list1, list2):\n",
    "    # Ambil elemen dengan indeks ganjil dari kedua list\n",
    "    ganjil_list1 = [list1[i] for i in range(1, len(list1), 2)]\n",
    "    ganjil_list2 = [list2[i] for i in range(1, len(list2), 2)]\n",
    "    \n",
    "    # Gabungkan kedua list\n",
    "    gabungan = ganjil_list1 + ganjil_list2\n",
    "    \n",
    "    # Urutkan secara menurun\n",
    "    gabungan.sort(reverse=True)\n",
    "    \n",
    "    return gabungan\n",
    "\n",
    "# Contoh penggunaan\n",
    "list1 = [0, 1, 2, 3, 4]\n",
    "print(f\"List 1: {list1}\")\n",
    "list2 = [10, 20, 30, 40, 50]\n",
    "print(f\"List 2: {list2}\")\n",
    "\n",
    "hasil = ambil_ganjil_dan_urutkan(list1, list2)\n",
    "print(f\"Hasil elemen dari indeks ganjil yang diurutkan secara menurun: {hasil}\")"
   ]
  },
  {
   "cell_type": "markdown",
   "metadata": {},
   "source": [
    "3. Exception Handling dalam Konteks Nyata -> Buat sebuah program untuk mensimulasikan transaksi ATM. Program harus:\n",
    "\n",
    "- Meminta pengguna memasukkan PIN (dibatasi 3 kali percobaan).\n",
    "- Setelah PIN benar, meminta jumlah penarikan.\n",
    "- Jika saldo kurang dari jumlah yang ditarik, munculkan pesan kesalahan.\n",
    "- Jika penarikan berhasil, tampilkan saldo akhir."
   ]
  },
  {
   "cell_type": "code",
   "execution_count": 17,
   "metadata": {},
   "outputs": [
    {
     "name": "stdout",
     "output_type": "stream",
     "text": [
      "Masukkan PIN Anda: \n",
      "PIN benar. Akses diberikan.\n",
      "Saldo tidak mencukupi.\n",
      "Saldo Anda: Rp200000\n",
      "Penarikan berhasil. Saldo akhir: Rp100000\n"
     ]
    }
   ],
   "source": [
    "# Soal 3\n",
    "\n",
    "# Mendefinisikan PIN yang benar dan saldo awal\n",
    "def transaksi_atm():\n",
    "    pin_benar = \"3060\"  \n",
    "    saldo = 200000  \n",
    "    percobaan = 0  # Inisialisasi percobaan PIN\n",
    "\n",
    "    # Memulai loop untuk percobaan PIN dengan batas maksimal 3 kali\n",
    "    while percobaan < 3:\n",
    "        pin = input(\"Masukkan PIN Anda: \")  # Meminta pengguna memasukkan PIN\n",
    "        print(\"Masukkan PIN Anda: \")\n",
    "        if pin == pin_benar:\n",
    "            print(\"PIN benar. Akses diberikan.\")  # Pesan jika PIN benar\n",
    "            # Jika PIN benar, masuk ke proses penarikan\n",
    "            while True:\n",
    "                try:\n",
    "                    # Meminta pengguna memasukkan jumlah uang yang ingin ditarik\n",
    "                    jumlah_tarik = int(input(\"Masukkan jumlah penarikan: \"))\n",
    "                    \n",
    "                    # Jika jumlah yang ditarik melebihi saldo, tampilkan pesan kesalahan\n",
    "                    if jumlah_tarik > saldo:\n",
    "                        print(\"Saldo tidak mencukupi.\")\n",
    "                        print(f\"Saldo Anda: Rp{saldo}\")\n",
    "                    else:\n",
    "                        # Jika saldo mencukupi, lakukan penarikan\n",
    "                        saldo -= jumlah_tarik\n",
    "                        print(f\"Penarikan berhasil. Saldo akhir: Rp{saldo}\")\n",
    "                        break  # Keluar dari loop setelah penarikan berhasil\n",
    "                except ValueError:\n",
    "                    # Jika input yang dimasukkan bukan angka, tampilkan pesan kesalahan\n",
    "                    print(\"Masukkan jumlah penarikan harus berupa angka.\")\n",
    "            break  # Keluar dari loop percobaan PIN setelah PIN benar\n",
    "        else:\n",
    "            # Jika PIN salah, tambahkan 1 ke jumlah percobaan dan berikan pesan\n",
    "            percobaan += 1\n",
    "            print(\"PIN salah. Anda memiliki\", 3 - percobaan, \"percobaan lagi.\")\n",
    "\n",
    "    # Jika percobaan mencapai 3 kali, kartu terblokir\n",
    "    if percobaan == 3:\n",
    "        print(\"Anda telah melebihi batas percobaan. Kartu Anda terblokir.\")\n",
    "\n",
    "transaksi_atm()\n"
   ]
  },
  {
   "cell_type": "markdown",
   "metadata": {},
   "source": [
    "4. Studi Kasus Pengelolaan Data\n",
    "Anda diberikan file CSV berisi data nilai ujian mahasiswa. Tugas Anda adalah menulis sebuah program yang:\n",
    "\n",
    "- Membaca file CSV dan menyimpan datanya ke dalam dictionary.\n",
    "- Menghitung rata-rata nilai tiap mahasiswa.\n",
    "- Menampilkan mahasiswa dengan nilai tertinggi dan terendah"
   ]
  },
  {
   "cell_type": "code",
   "execution_count": 13,
   "metadata": {},
   "outputs": [
    {
     "name": "stdout",
     "output_type": "stream",
     "text": [
      "Jumlah mahasiswa: 100\n",
      "\n",
      "Rata-rata nilai setiap mahasiswa:\n",
      "Siswa_1: 59.00\n",
      "Siswa_2: 79.00\n",
      "Siswa_3: 61.00\n",
      "Siswa_4: 74.00\n",
      "Siswa_5: 50.00\n",
      "Siswa_6: 70.00\n",
      "Siswa_7: 100.00\n",
      "Siswa_8: 84.00\n",
      "Siswa_9: 78.00\n",
      "Siswa_10: 61.00\n",
      "Siswa_11: 92.00\n",
      "Siswa_12: 60.00\n",
      "Siswa_13: 78.00\n",
      "Siswa_14: 87.00\n",
      "Siswa_15: 57.00\n",
      "Siswa_16: 73.00\n",
      "Siswa_17: 53.00\n",
      "Siswa_18: 54.00\n",
      "Siswa_19: 97.00\n",
      "Siswa_20: 52.00\n",
      "Siswa_21: 84.00\n",
      "Siswa_22: 89.00\n",
      "Siswa_23: 52.00\n",
      "Siswa_24: 90.00\n",
      "Siswa_25: 52.00\n",
      "Siswa_26: 64.00\n",
      "Siswa_27: 96.00\n",
      "Siswa_28: 100.00\n",
      "Siswa_29: 84.00\n",
      "Siswa_30: 60.00\n",
      "Siswa_31: 85.00\n",
      "Siswa_32: 63.00\n",
      "Siswa_33: 64.00\n",
      "Siswa_34: 68.00\n",
      "Siswa_35: 67.00\n",
      "Siswa_36: 52.00\n",
      "Siswa_37: 79.00\n",
      "Siswa_38: 55.00\n",
      "Siswa_39: 88.00\n",
      "Siswa_40: 95.00\n",
      "Siswa_41: 78.00\n",
      "Siswa_42: 66.00\n",
      "Siswa_43: 71.00\n",
      "Siswa_44: 64.00\n",
      "Siswa_45: 51.00\n",
      "Siswa_46: 77.00\n",
      "Siswa_47: 90.00\n",
      "Siswa_48: 83.00\n",
      "Siswa_49: 99.00\n",
      "Siswa_50: 56.00\n",
      "Siswa_51: 68.00\n",
      "Siswa_52: 88.00\n",
      "Siswa_53: 62.00\n",
      "Siswa_54: 98.00\n",
      "Siswa_55: 58.00\n",
      "Siswa_56: 92.00\n",
      "Siswa_57: 60.00\n",
      "Siswa_58: 55.00\n",
      "Siswa_59: 93.00\n",
      "Siswa_60: 60.00\n",
      "Siswa_61: 53.00\n",
      "Siswa_62: 79.00\n",
      "Siswa_63: 75.00\n",
      "Siswa_64: 83.00\n",
      "Siswa_65: 58.00\n",
      "Siswa_66: 50.00\n",
      "Siswa_67: 75.00\n",
      "Siswa_68: 61.00\n",
      "Siswa_69: 57.00\n",
      "Siswa_70: 98.00\n",
      "Siswa_71: 85.00\n",
      "Siswa_72: 57.00\n",
      "Siswa_73: 53.00\n",
      "Siswa_74: 55.00\n",
      "Siswa_75: 54.00\n",
      "Siswa_76: 64.00\n",
      "Siswa_77: 51.00\n",
      "Siswa_78: 65.00\n",
      "Siswa_79: 68.00\n",
      "Siswa_80: 51.00\n",
      "Siswa_81: 99.00\n",
      "Siswa_82: 89.00\n",
      "Siswa_83: 92.00\n",
      "Siswa_84: 56.00\n",
      "Siswa_85: 96.00\n",
      "Siswa_86: 79.00\n",
      "Siswa_87: 76.00\n",
      "Siswa_88: 71.00\n",
      "Siswa_89: 98.00\n",
      "Siswa_90: 89.00\n",
      "Siswa_91: 92.00\n",
      "Siswa_92: 65.00\n",
      "Siswa_93: 50.00\n",
      "Siswa_94: 84.00\n",
      "Siswa_95: 67.00\n",
      "Siswa_96: 59.00\n",
      "Siswa_97: 57.00\n",
      "Siswa_98: 70.00\n",
      "Siswa_99: 66.00\n",
      "Siswa_100: 78.00\n",
      "Mahasiswa dengan nilai tertinggi: Siswa_7 dengan rata-rata nilai 100.00\n",
      "Mahasiswa dengan nilai terendah: Siswa_5 dengan rata-rata nilai 50.00\n"
     ]
    }
   ],
   "source": [
    "import csv\n",
    "\n",
    "# Membaca file CSV dan menyimpan datanya ke dalam dictionary\n",
    "def baca_data(file_name):\n",
    "    data_nilai = {}\n",
    "    with open(file_name, mode='r') as file:\n",
    "        csv_reader = csv.reader(file)\n",
    "        header = next(csv_reader)  # Fungsi untuk melewati header\n",
    "        for row in csv_reader:\n",
    "            nama = row[0]\n",
    "            nilai = list(map(float, row[1:]))  # Mengubah nilai menjadi float\n",
    "            data_nilai[nama] = nilai\n",
    "    return data_nilai\n",
    "\n",
    "# Menghitung rata-rata nilai tiap mahasiswa\n",
    "def hitung_rata_rata(data_nilai):\n",
    "    rata_rata_nilai = {}\n",
    "    for nama, nilai in data_nilai.items():\n",
    "        rata_rata_nilai[nama] = sum(nilai) / len(nilai)\n",
    "    return rata_rata_nilai\n",
    "\n",
    "# Menemukan mahasiswa dengan nilai tertinggi dan terendah\n",
    "def nilai_tertinggi_terendah(rata_rata_nilai):\n",
    "    tertinggi = max(rata_rata_nilai, key=rata_rata_nilai.get)\n",
    "    terendah = min(rata_rata_nilai, key=rata_rata_nilai.get)\n",
    "    return tertinggi, rata_rata_nilai[tertinggi], terendah, rata_rata_nilai[terendah]\n",
    "\n",
    "# Main Program\n",
    "file_name = 'siswa_nilai.csv'  \n",
    "\n",
    "# Langkah-langkah Pengerjaan \n",
    "data_nilai = baca_data(file_name)\n",
    "rata_rata_nilai = hitung_rata_rata(data_nilai)\n",
    "tertinggi, nilai_tertinggi, terendah, nilai_terendah = nilai_tertinggi_terendah(rata_rata_nilai)\n",
    "\n",
    "# Output\n",
    "print(f\"Jumlah mahasiswa: {len(data_nilai)}\")\n",
    "\n",
    "print(\"\\nRata-rata nilai setiap mahasiswa:\")\n",
    "for nama, rata in rata_rata_nilai.items():\n",
    "    print(f\"{nama}: {rata:.2f}\")\n",
    "    \n",
    "print(f\"Mahasiswa dengan nilai tertinggi: {tertinggi} dengan rata-rata nilai {nilai_tertinggi:.2f}\")\n",
    "print(f\"Mahasiswa dengan nilai terendah: {terendah} dengan rata-rata nilai {nilai_terendah:.2f}\")"
   ]
  },
  {
   "cell_type": "markdown",
   "metadata": {},
   "source": [
    "5. Kombinasi Logika dan Kreativitas\n",
    "Buatlah permainan sederhana menggunakan Python, di mana komputer akan memilih sebuah angka secara acak antara 1 hingga 100, dan pengguna harus menebak angka tersebut. Setiap tebakan yang salah akan memberikan petunjuk apakah angka yang ditebak lebih besar atau lebih kecil dari angka sebenarnya. Batasi jumlah percobaan menjadi 5 kali. Setelah permainan selesai, tampilkan apakah pemain menang atau kalah"
   ]
  },
  {
   "cell_type": "code",
   "execution_count": 7,
   "metadata": {},
   "outputs": [
    {
     "name": "stdout",
     "output_type": "stream",
     "text": [
      "Selamat datang di Permainan Tebak Angka!\n",
      "Silakan pilih sebuah angka antara 1 sampai dengan 100.\n",
      "Anda memiliki 5 kesempatan untuk menebak.\n",
      "Angka terlalu besar. Sisa percobaan: 4\n",
      "Angka yang sudah ditebak: [35]\n",
      "Angka terlalu besar. Sisa percobaan: 3\n",
      "Angka yang sudah ditebak: [35, 67]\n",
      "Angka terlalu kecil. Sisa percobaan: 2\n",
      "Angka yang sudah ditebak: [35, 67, 24]\n",
      "Angka terlalu kecil. Sisa percobaan: 1\n",
      "Angka yang sudah ditebak: [35, 67, 24, 28]\n",
      "Angka terlalu besar. Sisa percobaan: 0\n",
      "Angka yang sudah ditebak: [35, 67, 24, 28, 32]\n",
      "Anda gagal karena kehabisan percobaan. Angka rahasianya adalah: 29\n",
      "Angka yang Anda tebak:  [35, 67, 24, 28, 32]\n"
     ]
    }
   ],
   "source": [
    "import random\n",
    "\n",
    "def tebak_angka():\n",
    "    print(\"Selamat datang di Permainan Tebak Angka!\")\n",
    "    print(\"Silakan pilih sebuah angka antara 1 sampai dengan 100.\")\n",
    "    print(\"Anda memiliki 5 kesempatan untuk menebak.\")\n",
    "\n",
    "    angka_rahasia = random.randint(1, 100)\n",
    "    percobaan = 5\n",
    "    tebakan_list = []  # Daftar untuk menyimpan semua tebakan\n",
    "\n",
    "    while percobaan > 0:\n",
    "        try:\n",
    "            tebakan = int(input(\"Tebak angka antara 1 sampai 100: \"))\n",
    "            percobaan -= 1\n",
    "            tebakan_list.append(tebakan)  # Menyimpan tebakan ke daftar\n",
    "\n",
    "            if tebakan == angka_rahasia:\n",
    "                print(\"Selamat, Anda berhasil menebak!\")\n",
    "                print(\"Angka yang Anda tebak: \", tebakan_list)\n",
    "                return\n",
    "\n",
    "            elif tebakan < angka_rahasia:\n",
    "                print(f\"Angka terlalu kecil. Sisa percobaan: {percobaan}\")\n",
    "            else:\n",
    "                print(f\"Angka terlalu besar. Sisa percobaan: {percobaan}\")\n",
    "            \n",
    "            # Menampilkan daftar angka yang sudah ditebak\n",
    "            print(\"Angka yang sudah ditebak:\", tebakan_list)\n",
    "        except ValueError:\n",
    "            print(\"Masukkan angka yang valid!\")\n",
    "\n",
    "    print(f\"Anda gagal karena kehabisan percobaan. Angka rahasianya adalah: {angka_rahasia}\")\n",
    "    print(\"Angka yang Anda tebak: \", tebakan_list)\n",
    "\n",
    "if __name__ == \"__main__\":\n",
    "    tebak_angka()"
   ]
  },
  {
   "cell_type": "markdown",
   "metadata": {},
   "source": [
    "6. Rekursi yang Tidak Biasa\n",
    "Buat fungsi rekursif yang menerima input bilangan bulat n dan menghasilkan urutan bilangan seperti berikut ini:\n",
    "\n",
    "Input: n = 4\n",
    "\n",
    "Output: 1, 1, 2, 6, 24\n",
    "\n",
    "Fungsi ini harus menggunakan konsep rekursi untuk menghitung faktorial setiap angka hingga n"
   ]
  },
  {
   "cell_type": "code",
   "execution_count": 1,
   "metadata": {},
   "outputs": [
    {
     "name": "stdout",
     "output_type": "stream",
     "text": [
      "Input: n = 4\n",
      "Output: 1, 2, 6, 24\n"
     ]
    }
   ],
   "source": [
    "# Fungsi untuk menghitung faktorial secara rekursif\n",
    "def faktorial(x):\n",
    "    if x == 0 or x == 1:\n",
    "        return 1\n",
    "    else:\n",
    "        return x * faktorial(x - 1)\n",
    "\n",
    "# Fungsi untuk menghasilkan daftar faktorial dari 1 hingga n\n",
    "def urutan_faktorial(n):\n",
    "    if n == 1:\n",
    "        return [1]  # Basis rekursif: kembalikan list dengan satu elemen 1\n",
    "    else:\n",
    "        faktorials = urutan_faktorial(n - 1)  # Rekursif\n",
    "        faktorials.append(faktorial(n))  # Tambahkan hasil faktorial ke daftar\n",
    "        return faktorials\n",
    "\n",
    "# Fungsi untuk mencetak hasil dalam format yang sesuai\n",
    "def cetak_urutan_faktorial(n):\n",
    "    faktorials = urutan_faktorial(n)\n",
    "    print(\", \".join(map(str, faktorials)))\n",
    "\n",
    "# Contoh penggunaan\n",
    "n = int(input(\"Masukkan jumlah angka rekursi: \"))\n",
    "print(\"Input: n = 4\")\n",
    "print(\"Output:\", end=\" \")\n",
    "cetak_urutan_faktorial(n)"
   ]
  },
  {
   "cell_type": "markdown",
   "metadata": {},
   "source": [
    "7. Pemrograman dengan Algoritma Greedy\n",
    "\n",
    "Buatlah program untuk memecahkan masalah \"minimum coin change\". Diberikan jumlah uang dan daftar nilai koin yang tersedia (misalnya, 1, 5, 10, 25), tentukan kombinasi minimum koin yang diperlukan untuk mencapai jumlah uang tersebut. Namun, program Anda harus bisa menangani koin-koin yang nilai dan jumlahnya ditentukan pengguna"
   ]
  },
  {
   "cell_type": "code",
   "execution_count": 4,
   "metadata": {},
   "outputs": [
    {
     "name": "stdout",
     "output_type": "stream",
     "text": [
      "Selamat datang di program Greedy Coin Change!\n",
      "\n",
      "Jumlah uang yang ingin dicapai: 100\n",
      "Nilai koin yang tersedia: 25, 10, 5, 1\n",
      "\n",
      "Kombinasi koin minimum:\n",
      "4 koin 25\n"
     ]
    }
   ],
   "source": [
    "def minimum_coin_change(jumlah_uang, koin):\n",
    "    print(\"Selamat datang di program Greedy Coin Change!\")\n",
    "    koin.sort(reverse=True)  # Urutkan koin dari nilai terbesar ke terkecil\n",
    "    jumlah_koin = {koin_nilai: 0 for koin_nilai in koin}\n",
    "\n",
    "    for koin_nilai in koin:\n",
    "        while jumlah_uang >= koin_nilai:  # Cek apakah jumlah uang cukup untuk koin tersebut\n",
    "            jumlah_koin[koin_nilai] += 1\n",
    "            jumlah_uang -= koin_nilai\n",
    "\n",
    "    return jumlah_koin\n",
    "\n",
    "if __name__ == \"__main__\":\n",
    "    jumlah_uang = int(input(\"Masukkan jumlah uang: \"))\n",
    "    koins = input(\"Masukkan nilai koin (pisahkan dengan koma): \").split(\",\")\n",
    "    koin = [int(x.strip()) for x in koins]  # Menghapus spasi di sekitar angka\n",
    "\n",
    "    hasil = minimum_coin_change(jumlah_uang, koin)\n",
    "    \n",
    "    # Keterangan output\n",
    "    print(f\"\\nJumlah uang yang ingin dicapai: {jumlah_uang}\")\n",
    "    print(f\"Nilai koin yang tersedia: {', '.join(map(str, koin))}\")\n",
    "    print(\"\\nKombinasi koin minimum:\")\n",
    "    \n",
    "    for koin, jumlah in hasil.items():\n",
    "        if jumlah > 0:  # Hanya tampilkan koin yang digunakan\n",
    "            print(f\"{jumlah} koin {koin}\")"
   ]
  },
  {
   "cell_type": "markdown",
   "metadata": {},
   "source": [
    "8. Kombinasi String dan Manipulasi List\n",
    "\n",
    "Buat sebuah program yang menerima string dari pengguna dan mengonversi string tersebut menjadi sebuah list berisi kata-kata terbalik. Misalnya:\n",
    "\n",
    "Input: \"Saya suka Python\"\n",
    "Output: [\"ayaS\", \"akus\", \"nohtyP\"]"
   ]
  },
  {
   "cell_type": "code",
   "execution_count": 2,
   "metadata": {},
   "outputs": [
    {
     "name": "stdout",
     "output_type": "stream",
     "text": [
      "Saya Suka Python\n",
      "['ayaS', 'akus', 'nohtyP']\n"
     ]
    }
   ],
   "source": [
    "def balik_kata(kalimat):\n",
    "\n",
    "  # Bagi kalimat menjadi list kata-kata\n",
    "  kata_kata = kalimat.split()\n",
    "\n",
    "  # Balik setiap kata dan simpan dalam list baru\n",
    "  kata_kata_balik = [kata[::-1] for kata in kata_kata]\n",
    "\n",
    "  return kata_kata_balik\n",
    "\n",
    "# Input dari pengguna\n",
    "kalimat = input(\"Masukkan kalimat: \")\n",
    "print(\"Saya Suka Python\")\n",
    "# Panggil fungsi dan tampilkan hasil\n",
    "hasil = balik_kata(kalimat)\n",
    "print(hasil)"
   ]
  },
  {
   "cell_type": "markdown",
   "metadata": {},
   "source": [
    "9. Konsep Class dan Object-Oriented Programming\n",
    "Buat class bernama Buku yang memiliki atribut judul, penulis, dan tahun_terbit. Buat method dalam class untuk menampilkan informasi buku, serta method untuk menghitung usia buku berdasarkan tahun saat ini. Buatlah 3 objek dari class Buku dan tampilkan informasi serta usia masing-masing buku"
   ]
  },
  {
   "cell_type": "code",
   "execution_count": 7,
   "metadata": {},
   "outputs": [
    {
     "name": "stdout",
     "output_type": "stream",
     "text": [
      "Buku 1:\n",
      "Judul: Laskar Pelangi\n",
      "Penulis: Andrea Hirata\n",
      "Tahun Terbit: 2005\n",
      "Usia buku: 19 tahun\n",
      "\n",
      "Buku 2:\n",
      "Judul: Ayat-Ayat Cinta\n",
      "Penulis: Habiburrahman El Shirazy\n",
      "Tahun Terbit: 2004\n",
      "Usia buku: 20 tahun\n",
      "\n",
      "Buku 3:\n",
      "Judul: Ubur-Ubur Lembur\n",
      "Penulis: Raditya Dika\n",
      "Tahun Terbit: 2018\n",
      "Usia buku: 6 tahun\n"
     ]
    }
   ],
   "source": [
    "import datetime\n",
    "\n",
    "class Buku:\n",
    "    def __init__(self, judul, penulis, tahun_terbit):\n",
    "        self.judul = judul\n",
    "        self.penulis = penulis\n",
    "        self.tahun_terbit = tahun_terbit\n",
    "\n",
    "    def tampilkan_info(self):\n",
    "        print(f\"Judul: {self.judul}\")\n",
    "        print(f\"Penulis: {self.penulis}\")\n",
    "        print(f\"Tahun Terbit: {self.tahun_terbit}\")\n",
    "\n",
    "    def hitung_usia(self):\n",
    "        tahun_sekarang = datetime.datetime.now().year\n",
    "        usia_buku = tahun_sekarang - self.tahun_terbit\n",
    "        print(f\"Usia buku: {usia_buku} tahun\")\n",
    "\n",
    "# Membuat objek-objek Buku\n",
    "buku1 = Buku(\"Laskar Pelangi\", \"Andrea Hirata\", 2005)\n",
    "buku2 = Buku(\"Ayat-Ayat Cinta\", \"Habiburrahman El Shirazy\", 2004)\n",
    "buku3 = Buku(\"Ubur-Ubur Lembur\", \"Raditya Dika\", 2018)\n",
    "\n",
    "# Menampilkan informasi dan usia masing-masing buku dengan label\n",
    "print(\"Buku 1:\")\n",
    "buku1.tampilkan_info()\n",
    "buku1.hitung_usia()\n",
    "\n",
    "print(\"\\nBuku 2:\")\n",
    "buku2.tampilkan_info()\n",
    "buku2.hitung_usia()\n",
    "\n",
    "print(\"\\nBuku 3:\")\n",
    "buku3.tampilkan_info()\n",
    "buku3.hitung_usia()"
   ]
  },
  {
   "cell_type": "markdown",
   "metadata": {},
   "source": [
    "10. Algoritma dengan Persyaratan Logika Khusus\n",
    "\n",
    "Buatlah program yang mengimplementasikan algoritma pencarian biner, namun dengan modifikasi: algoritma harus bisa mencari nilai di list yang hanya berisi angka genap, dan jika nilai yang dicari adalah angka ganjil, program harus menampilkan pesan bahwa nilai tersebut tidak bisa ditemukan"
   ]
  },
  {
   "cell_type": "code",
   "execution_count": 12,
   "metadata": {},
   "outputs": [
    {
     "name": "stdout",
     "output_type": "stream",
     "text": [
      "Nilai tidak bisa ditemukan karena merupakan angka ganjil.\n"
     ]
    }
   ],
   "source": [
    "def binary_search(arr, target):\n",
    "    low = 0\n",
    "    high = len(arr) - 1\n",
    "    \n",
    "    while low <= high:\n",
    "        mid = (low + high) // 2\n",
    "        if arr[mid] == target:\n",
    "            return mid\n",
    "        elif arr[mid] < target:\n",
    "            low = mid + 1\n",
    "        else:\n",
    "            high = mid - 1\n",
    "    return -1\n",
    "\n",
    "def main():\n",
    "    # List angka genap yang sudah terurut\n",
    "    even_numbers = [2, 4, 6, 8, 10, 12, 14, 16, 18, 20, 22, 24, 26, 28, 30]\n",
    "    \n",
    "    # Input dari pengguna\n",
    "    target = int(input(\"Masukkan angka yang ingin dicari: \"))\n",
    "    \n",
    "    # Cek apakah target ganjil\n",
    "    if target % 2 != 0:\n",
    "        print(\"Nilai tidak bisa ditemukan karena merupakan angka ganjil.\")\n",
    "        return\n",
    "    \n",
    "    # Melakukan pencarian biner\n",
    "    index = binary_search(even_numbers, target)\n",
    "    \n",
    "    if index != -1:\n",
    "        print(f\"Angka {target} ditemukan di indeks {index}.\")\n",
    "    else:\n",
    "        print(f\"Angka {target} tidak ditemukan dalam daftar.\")\n",
    "\n",
    "if __name__ == \"__main__\":\n",
    "    main()"
   ]
  },
  {
   "cell_type": "code",
   "execution_count": 14,
   "metadata": {},
   "outputs": [
    {
     "name": "stdout",
     "output_type": "stream",
     "text": [
      "Angka 30 ditemukan di indeks 14.\n"
     ]
    }
   ],
   "source": [
    "def binary_search(arr, target):\n",
    "    low = 0\n",
    "    high = len(arr) - 1\n",
    "    \n",
    "    while low <= high:\n",
    "        mid = (low + high) // 2\n",
    "        if arr[mid] == target:\n",
    "            return mid\n",
    "        elif arr[mid] < target:\n",
    "            low = mid + 1\n",
    "        else:\n",
    "            high = mid - 1\n",
    "    return -1\n",
    "\n",
    "def main():\n",
    "    # List angka genap yang sudah terurut\n",
    "    even_numbers = [2, 4, 6, 8, 10, 12, 14, 16, 18, 20, 22, 24, 26, 28, 30]\n",
    "    \n",
    "    # Input dari pengguna\n",
    "    target = int(input(\"Masukkan angka yang ingin dicari: \"))\n",
    "    \n",
    "    # Cek apakah target ganjil\n",
    "    if target % 2 != 0:\n",
    "        print(\"Nilai tersebut tidak bisa ditemukan karena merupakan angka ganjil.\")\n",
    "        return\n",
    "    \n",
    "    # Melakukan pencarian biner\n",
    "    index = binary_search(even_numbers, target)\n",
    "    \n",
    "    if index != -1:\n",
    "        print(f\"Angka {target} ditemukan di indeks {index}.\")\n",
    "    else:\n",
    "        print(f\"Angka {target} tidak ditemukan dalam daftar.\")\n",
    "\n",
    "if __name__ == \"__main__\":\n",
    "    main()"
   ]
  }
 ],
 "metadata": {
  "kernelspec": {
   "display_name": "oelcoding",
   "language": "python",
   "name": "python3"
  },
  "language_info": {
   "codemirror_mode": {
    "name": "ipython",
    "version": 3
   },
   "file_extension": ".py",
   "mimetype": "text/x-python",
   "name": "python",
   "nbconvert_exporter": "python",
   "pygments_lexer": "ipython3",
   "version": "3.12.6"
  }
 },
 "nbformat": 4,
 "nbformat_minor": 2
}
